{
 "cells": [
  {
   "cell_type": "code",
   "execution_count": null,
   "id": "d4ff81ed",
   "metadata": {},
   "outputs": [],
   "source": [
    "print(\"Hello! What is your name?\")\n",
    "name = \"Matt B\"\n",
    "print(f\"Nice to meet you, {name}\")"
   ]
  },
  {
   "cell_type": "markdown",
   "id": "62694783",
   "metadata": {},
   "source": [
    "Hello! My name is Matt and I am ready to take my coding skills to the next level. I have been wanting to do this for years and am blessed to have this oppurtunity to learn!"
   ]
  }
 ],
 "metadata": {
  "kernelspec": {
   "display_name": "Python 3",
   "language": "python",
   "name": "python3"
  },
  "language_info": {
   "name": "python",
   "version": "3.13.7"
  }
 },
 "nbformat": 4,
 "nbformat_minor": 5
}
